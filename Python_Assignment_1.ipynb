{
  "nbformat": 4,
  "nbformat_minor": 0,
  "metadata": {
    "colab": {
      "provenance": [],
      "authorship_tag": "ABX9TyMUTp8LI5zdRPN/v0VheHPd",
      "include_colab_link": true
    },
    "kernelspec": {
      "name": "python3",
      "display_name": "Python 3"
    },
    "language_info": {
      "name": "python"
    }
  },
  "cells": [
    {
      "cell_type": "markdown",
      "metadata": {
        "id": "view-in-github",
        "colab_type": "text"
      },
      "source": [
        "<a href=\"https://colab.research.google.com/github/HRIDYANS/MY_PYTHON_PROJECT/blob/main/Python_Assignment_1.ipynb\" target=\"_parent\"><img src=\"https://colab.research.google.com/assets/colab-badge.svg\" alt=\"Open In Colab\"/></a>"
      ]
    },
    {
      "cell_type": "markdown",
      "source": [
        "1. A financial analyst stores monthly revenues in a list: [120000,135000, 128000, 142000, 150000]. Find the difference between the highest and lowest revenue without using loops."
      ],
      "metadata": {
        "id": "zcUxXWOYJCNK"
      }
    },
    {
      "cell_type": "code",
      "source": [
        "L1= [120000,135000, 128000, 142000, 150000]\n",
        "Diff = max(L1)- min(L1)\n",
        "print(Diff)"
      ],
      "metadata": {
        "colab": {
          "base_uri": "https://localhost:8080/"
        },
        "id": "R6keFX3DJV7Q",
        "outputId": "0fd281c0-2876-4677-c2e4-51696edf710f"
      },
      "execution_count": 5,
      "outputs": [
        {
          "output_type": "stream",
          "name": "stdout",
          "text": [
            "30000\n"
          ]
        }
      ]
    },
    {
      "cell_type": "markdown",
      "source": [
        "2. Given the tuple account = ('Asha', 'Savings', 56000, 'KCH'), unpack the values into\n",
        "separate variables and print a formatted string: 'Asha has ₹56000 in her Savings account (Branch: KCH)'."
      ],
      "metadata": {
        "id": "vcj-mPqVJ_wd"
      }
    },
    {
      "cell_type": "code",
      "source": [
        "account = ('Asha', 'Savings', 56000, 'KCH')\n",
        "name,acctype,bal,branch=account\n",
        "print(f\"{name} has ₹{bal} in her {acctype} account (Branch: {branch})\")"
      ],
      "metadata": {
        "colab": {
          "base_uri": "https://localhost:8080/"
        },
        "id": "88aNzfafJorw",
        "outputId": "ed7db66a-8153-4083-ba49-4da506e6ebe6"
      },
      "execution_count": 8,
      "outputs": [
        {
          "output_type": "stream",
          "name": "stdout",
          "text": [
            "Asha has ₹56000 in her Savings account (Branch: KCH)\n"
          ]
        }
      ]
    },
    {
      "cell_type": "markdown",
      "source": [
        "3. Convert the list of string numbers ['45000', '56000', '38000'] to integers and find\n",
        "their average balance."
      ],
      "metadata": {
        "id": "ZjgJ8pZNK_-t"
      }
    },
    {
      "cell_type": "code",
      "source": [
        "numbers=['45000', '56000', '38000']\n",
        "int_num=\n",
        "\n",
        "int_num= [int(num) for num in numbers]\n",
        "avg_bal=  sum(int_num)/len(int_num)\n",
        "print(f\"Their avg balance : {avg_bal}\")\n"
      ],
      "metadata": {
        "colab": {
          "base_uri": "https://localhost:8080/"
        },
        "id": "CeTxM2vRLLQ8",
        "outputId": "baa128d5-0b5a-47fe-f40a-e5dda67d3338"
      },
      "execution_count": 15,
      "outputs": [
        {
          "output_type": "stream",
          "name": "stdout",
          "text": [
            "Their avg balance : 46333.333333333336\n"
          ]
        }
      ]
    },
    {
      "cell_type": "markdown",
      "source": [
        "4. Create a list with elements: ['Kochi', 'Chennai', 'Mumbai', 'Delhi', 'Pune']. Replace\n",
        "'Delhi' with 'Hyderabad' and print the new list in reverse order using slicing."
      ],
      "metadata": {
        "id": "dwVCnjzQOYu_"
      }
    },
    {
      "cell_type": "code",
      "source": [
        "elements= ['Kochi', 'Chennai', 'Mumbai', 'Delhi', 'Pune']\n",
        "elements[-2] = 'Hyderabad'\n",
        "print(elements[::-1])"
      ],
      "metadata": {
        "colab": {
          "base_uri": "https://localhost:8080/"
        },
        "id": "6K2rWR4qOrN1",
        "outputId": "b985b7cf-9ea0-4de7-dd1b-67a2f73f642a"
      },
      "execution_count": 16,
      "outputs": [
        {
          "output_type": "stream",
          "name": "stdout",
          "text": [
            "['Pune', 'Hyderabad', 'Mumbai', 'Chennai', 'Kochi']\n"
          ]
        }
      ]
    },
    {
      "cell_type": "markdown",
      "source": [
        "5. You have two tuples: interest_2024 = (7.1, 7.3, 7.2) and interest_2025 = (7.4, 7.5).\n",
        "Combine them and print the average of all interest rates."
      ],
      "metadata": {
        "id": "jh-DlWrHPrO8"
      }
    },
    {
      "cell_type": "code",
      "source": [
        "interest_2024 = (7.1, 7.3, 7.2)\n",
        "interest_2025 = (7.4, 7.5)\n",
        "Full_int=interest_2024+interest_2025\n",
        "avg=sum(Full_int)/len(Full_int)\n",
        "print(f\"The average of all interest rates:{avg}\")"
      ],
      "metadata": {
        "colab": {
          "base_uri": "https://localhost:8080/"
        },
        "id": "IQSFOUGFPyWA",
        "outputId": "16d6faa5-ad77-41fb-93d3-7a5e7c74a4d0"
      },
      "execution_count": 17,
      "outputs": [
        {
          "output_type": "stream",
          "name": "stdout",
          "text": [
            "The average of all interest rates:7.3\n"
          ]
        }
      ]
    },
    {
      "cell_type": "markdown",
      "source": [],
      "metadata": {
        "id": "ey8ZmvoQQumv"
      }
    },
    {
      "cell_type": "markdown",
      "source": [
        "6.A string variable branch_id = 'TVM-FIN-2025'. Extract the branch code (first three letters) and the year (last four digits)."
      ],
      "metadata": {
        "id": "lQa7I3mXQunh"
      }
    },
    {
      "cell_type": "code",
      "source": [
        "branch_id = 'TVM-FIN-2025'\n",
        "br_id=branch_id[:3]\n",
        "br_yr=branch_id[-4:]\n",
        "print(f\"The branch code {br_id} and the year{br_yr}\")"
      ],
      "metadata": {
        "colab": {
          "base_uri": "https://localhost:8080/"
        },
        "id": "Frkg12acQ6En",
        "outputId": "49b2edd1-2ceb-4716-9cac-d0e3619f1b7a"
      },
      "execution_count": 20,
      "outputs": [
        {
          "output_type": "stream",
          "name": "stdout",
          "text": [
            "The branch code TVM and the year2025\n"
          ]
        }
      ]
    },
    {
      "cell_type": "markdown",
      "source": [
        " 7. Create a list transactions = [10000, -2000, 5000, -1500, 3000]. Without using loops, find total deposits and withdrawals using list slicing or indexing only."
      ],
      "metadata": {
        "id": "-dJWMeXWSQwQ"
      }
    },
    {
      "cell_type": "code",
      "source": [
        "\n",
        "tran = [10000, -2000, 5000, -1500, 3000]\n",
        "sum_dep = sum([tran[0], tran[2], tran[4]])\n",
        "sum_with = sum([tran[1], tran[3]])\n",
        "print(f\"Total deposits: {sum_dep} and withdrawals: {sum_with}\")"
      ],
      "metadata": {
        "colab": {
          "base_uri": "https://localhost:8080/"
        },
        "id": "WDVQKwO9SWuJ",
        "outputId": "937e5bb4-1e18-49a4-fd25-3a63e564a0cf"
      },
      "execution_count": 58,
      "outputs": [
        {
          "output_type": "stream",
          "name": "stdout",
          "text": [
            "Total deposits: 18000 and withdrawals: -3500\n"
          ]
        }
      ]
    },
    {
      "cell_type": "markdown",
      "source": [
        "8.Given name = 'John Doe' and balance = 72500, print a message in title case stating\n",
        "'John Doe has a balance of ₹72500'. Ensure no type errors occur."
      ],
      "metadata": {
        "id": "9QIKOKJYT4wL"
      }
    },
    {
      "cell_type": "code",
      "source": [
        "name = 'John Doe'\n",
        "bal = 72500\n",
        "print(f\"{name} has a balance of ₹{bal}\")"
      ],
      "metadata": {
        "colab": {
          "base_uri": "https://localhost:8080/"
        },
        "id": "52rxA2qMUPeA",
        "outputId": "25a04d05-a44b-405f-e7d5-3129a43a26ca"
      },
      "execution_count": 22,
      "outputs": [
        {
          "output_type": "stream",
          "name": "stdout",
          "text": [
            "John Doe has a balance of ₹72500\n"
          ]
        }
      ]
    },
    {
      "cell_type": "markdown",
      "source": [
        "9. A tuple customer = ('Kiran', 'Loan', 80000, 7.5). Calculate and print the total amount\n",
        "payable after 1 year if interest is simple interest based on rate 7.5%."
      ],
      "metadata": {
        "id": "IYf2JsvBUq35"
      }
    },
    {
      "cell_type": "code",
      "source": [
        "customer = ('Kiran', 'Loan', 80000, 7.5)\n",
        "inter= customer[2]*(1+customer[3]/100)\n",
        "print(f\"The total amount payable after 1 year is: {inter}\")\n"
      ],
      "metadata": {
        "colab": {
          "base_uri": "https://localhost:8080/"
        },
        "id": "wHa9ibTdUuVJ",
        "outputId": "db716442-f98d-405b-b2eb-3aba57eccf57"
      },
      "execution_count": 26,
      "outputs": [
        {
          "output_type": "stream",
          "name": "stdout",
          "text": [
            "The total amount payable after 1 year is: 86000.0\n"
          ]
        }
      ]
    },
    {
      "cell_type": "markdown",
      "source": [
        "10. Create two lists – branches = ['Kochi', 'Chennai', 'Mumbai'] and profits = [120000,\n",
        "95000, 134000]. Form a new list of tuples pairing each branch with its profit."
      ],
      "metadata": {
        "id": "wCTiS-NkcUv2"
      }
    },
    {
      "cell_type": "code",
      "source": [
        "branches = ['Kochi', 'Chennai', 'Mumbai']\n",
        "profits = [120000, 95000, 134000]\n",
        "tup=[(branches[0],profits[0]),(branches[1],profits[1]),(branches[2],profits[2])]\n",
        "print(f\"{tup}\")"
      ],
      "metadata": {
        "colab": {
          "base_uri": "https://localhost:8080/"
        },
        "id": "1wTegZMWcbNG",
        "outputId": "daab8f42-9a6d-4346-bf47-d886fc2b3df5"
      },
      "execution_count": 27,
      "outputs": [
        {
          "output_type": "stream",
          "name": "stdout",
          "text": [
            "[('Kochi', 120000), ('Chennai', 95000), ('Mumbai', 134000)]\n"
          ]
        }
      ]
    },
    {
      "cell_type": "markdown",
      "source": [
        " 11. From a list salaries = [45000, 56000, 38000, 62000, 54000], extract the top three\n",
        "salaries using slicing only."
      ],
      "metadata": {
        "id": "AEMNp73RdQ0u"
      }
    },
    {
      "cell_type": "code",
      "source": [
        "\n",
        "salaries = [45000, 56000, 38000, 62000, 54000]\n",
        "sal= salaries[3],salaries[1],salaries[4]\n",
        "print(f\"{sal}\")\n"
      ],
      "metadata": {
        "colab": {
          "base_uri": "https://localhost:8080/"
        },
        "id": "5rFQhTRAdVEv",
        "outputId": "ce14b6c9-e566-45ea-b4ef-79074bd310a9"
      },
      "execution_count": 62,
      "outputs": [
        {
          "output_type": "stream",
          "name": "stdout",
          "text": [
            "(62000, 56000, 54000)\n"
          ]
        }
      ]
    },
    {
      "cell_type": "markdown",
      "source": [
        "12. Given the tuple exchange_rates = (83.2, 83.1, 83.5, 83.0, 82.9), convert it into a list\n",
        "and change the third value to 84.0."
      ],
      "metadata": {
        "id": "7BEM25cyeX6i"
      }
    },
    {
      "cell_type": "code",
      "source": [
        "exchange_rates = (83.2, 83.1, 83.5, 83.0, 82.9)\n",
        "l1=list(exchange_rates)\n",
        "l1[2]=84.0\n",
        "print(f\"{l1}\")"
      ],
      "metadata": {
        "colab": {
          "base_uri": "https://localhost:8080/"
        },
        "id": "zcjpD8O7eUTC",
        "outputId": "198b2ec2-675d-49c9-9ceb-8d5728b2e85c"
      },
      "execution_count": 33,
      "outputs": [
        {
          "output_type": "stream",
          "name": "stdout",
          "text": [
            "[83.2, 83.1, 84.0, 83.0, 82.9]\n"
          ]
        }
      ]
    },
    {
      "cell_type": "markdown",
      "source": [
        " 13. Combine two lists customer_names = ['Asha', 'John', 'Meera'] and balances = [56000,\n",
        "72000, 65000] into a formatted string such as 'Asha:56000, John:72000, Meera:65000'\n",
        "without loops."
      ],
      "metadata": {
        "id": "9cC98Ofzfcyo"
      }
    },
    {
      "cell_type": "code",
      "source": [
        "customer_names = ['Asha', 'John', 'Meera']\n",
        "balances = [56000, 72000, 65000]\n",
        "print(customer_names[0],\":\",balances[0],customer_names[1],\":\",balances[1],customer_names[2],\":\",balances[2])"
      ],
      "metadata": {
        "colab": {
          "base_uri": "https://localhost:8080/"
        },
        "id": "VHcpYjUCfhJJ",
        "outputId": "0f4d339a-8915-4bfb-b29a-36cd16838671"
      },
      "execution_count": 36,
      "outputs": [
        {
          "output_type": "stream",
          "name": "stdout",
          "text": [
            "Asha : 56000 John : 72000 Meera : 65000\n"
          ]
        }
      ]
    },
    {
      "cell_type": "markdown",
      "source": [
        " 14. Given account_info = (Deepa, 'Savings', 98000), use string formatting to print a\n",
        "sentence 'Account Holder Deepz has ₹98000 in Savings account'."
      ],
      "metadata": {
        "id": "KbAFR_pig2ss"
      }
    },
    {
      "cell_type": "code",
      "source": [
        "account_info = ('Deepa', 'Savings', 98000)\n",
        "name,acctype,bal=account_info\n",
        "print(f\"Account Holder {name}z has ₹{bal} in {acctype} account'.\")"
      ],
      "metadata": {
        "colab": {
          "base_uri": "https://localhost:8080/"
        },
        "id": "3Cel1JHxg6eK",
        "outputId": "0a24f7ca-421f-4f17-cb71-437a6f27556c"
      },
      "execution_count": 38,
      "outputs": [
        {
          "output_type": "stream",
          "name": "stdout",
          "text": [
            "Account Holder Deepaz has ₹98000 in Savings account'.\n"
          ]
        }
      ]
    },
    {
      "cell_type": "markdown",
      "source": [
        " 15. Create a nested list storing branch names and their monthly collections: [['Kochi',\n",
        "[120000, 135000]], ['Chennai', [95000, 110000]]]. Print only the collection of Chennai\n",
        "branch without using loops."
      ],
      "metadata": {
        "id": "WTPJPJ23hqgM"
      }
    },
    {
      "cell_type": "code",
      "source": [
        "collections= ['Kochi', [120000, 135000]], ['Chennai', [95000, 110000]]\n",
        "col=collections [1][1]\n",
        "print(f\"The collection of chennai is {col}\")\n"
      ],
      "metadata": {
        "colab": {
          "base_uri": "https://localhost:8080/"
        },
        "id": "0HMJcu4ghvRj",
        "outputId": "028ff527-c36b-48ab-baf8-e240adf7fce4"
      },
      "execution_count": 46,
      "outputs": [
        {
          "output_type": "stream",
          "name": "stdout",
          "text": [
            "The collection of chennai is [95000, 110000]\n"
          ]
        }
      ]
    }
  ]
}